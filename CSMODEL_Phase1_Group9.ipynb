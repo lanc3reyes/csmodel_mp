{
 "cells": [
  {
   "cell_type": "markdown",
   "id": "f13bdb6b",
   "metadata": {},
   "source": [
    "## Dataset Description\n",
    "\n",
    "**Name:** IoT-Based Environmental Dataset\n",
    "\n",
    "**Source:** [Kaggle - IoT-Based Environmental Dataset](https://www.kaggle.com/datasets/ziya07/iot-based-environmental-dataset?resource=download)\n",
    "\n",
    "**Summary:**  \n",
    "This dataset provides detailed environmental and mental health data collected from a university setting using IoT sensors. It includes environmental metrics such as temperature, humidity, air quality, noise, lighting, and crowd density, as well as student-reported mental health indicators like stress level, sleep hours, mood score, and mental health status. The goal is to analyze how environmental conditions may influence students' well-being.\n",
    "\n",
    "**Structure:**  \n",
    "- Each row represents a 15-minute interval of environmental readings (e.g., temperature, noise, air quality) from various campus locations.\n",
    "- The dataset contains 1000 rows and 12 columns.\n",
    "- The dataset contains the following columns:\n",
    "\n",
    "| Column Name   | Description                                      |\n",
    "|---------------|--------------------------------------------------|\n",
    "| timestamp\t| Time of data capture |\n",
    "| location_id | ID of the sensor/location |\n",
    "| temperature_celsius |\tAmbient temperature |\n",
    "| humidity_percent | Humidity level |\n",
    "| noise_level_db | Noise level in decibels |\n",
    "| lighting_lux | Lighting level |\n",
    "| crowd_density | Estimated number of people in the area |\n",
    "| stress_level | Self-reported stress level |\n",
    "| sleep_hours | Self-reported sleep duration |\n",
    "| mood_score | Mood score (likely on a scale, e.g., 0–3) |\n",
    "| mental_health_status | Binary indicator (0 = healthy, 1 = issues) |\n",
    "\n",
    "**Provenance:**  \n",
    "Compiled and published by Ziya on Kaggle. Last updated in 2025.\n",
    "\n",
    "**License:**  \n",
    "Check the Kaggle page for licensing details; the dataset is typically available for educational and non-commercial use.\n",
    "\n",
    "**Note:**  \n",
    "- The location_id column refers to the specific IoT sensor or monitored area within the university environment.\n",
    "- The dataset was likely compiled from various environmental sensors and self-reported student responses, then structured into a CSV file.\n",
    "- mental_health_status is a simplified binary label and may not capture the full complexity of a student's psychological condition.\n",
    "\n",
    "**Potential Implications and Biases:**\n",
    "- Since the data involves self-reported mental health metrics, responses may be subject to personal bias, underreporting, or overestimation.\n",
    "- Sensor accuracy and calibration may affect the consistency and precision of environmental measurements (e.g., noise or air quality).\n",
    "- The dataset is limited to a university population and may not generalize to broader demographic or institutional contexts.\n",
    "- Environmental conditions are highly dynamic, and snapshots in time may not fully capture long-term exposure or effects.\n",
    "\n",
    "\n"
   ]
  },
  {
   "cell_type": "markdown",
   "id": "c9d9a31d",
   "metadata": {},
   "source": []
  },
  {
   "cell_type": "code",
   "execution_count": 11,
   "id": "a7d75150",
   "metadata": {},
   "outputs": [
    {
     "data": {
      "text/plain": [
       "(1000, 12)"
      ]
     },
     "execution_count": 1,
     "metadata": {},
     "output_type": "execute_result"
    }
   ],
   "source": [
    "import pandas as pd\n",
    "mental_health_df = pd.read_csv('university_mental_health_iot_dataset.csv')\n",
    "mental_health_df.shape"
   ]
  },
  {
   "cell_type": "markdown",
   "id": "39b74646",
   "metadata": {},
   "source": [
    "**The dataset contains 1000 observations through the pandas 'shape' attribute.**"
   ]
  },
  {
   "cell_type": "markdown",
   "id": "22d42db0",
   "metadata": {},
   "source": []
  }
 ],
 "metadata": {
  "kernelspec": {
   "display_name": "base",
   "language": "python",
   "name": "python3"
  },
  "language_info": {
   "codemirror_mode": {
    "name": "ipython",
    "version": 3
   },
   "file_extension": ".py",
   "mimetype": "text/x-python",
   "name": "python",
   "nbconvert_exporter": "python",
   "pygments_lexer": "ipython3",
   "version": "3.12.7"
  }
 },
 "nbformat": 4,
 "nbformat_minor": 5
}
