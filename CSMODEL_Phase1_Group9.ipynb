{
 "cells": [
  {
   "cell_type": "markdown",
   "id": "f13bdb6b",
   "metadata": {},
   "source": [
    "## Dataset Description\n",
    "\n",
    "**Name:** NBA Players Database\n",
    "\n",
    "**Source:** [Kaggle - NBA Players Database by Mustafa Yağız Fırat](https://www.kaggle.com/datasets/yagizfiratt/nba-players-database)\n",
    "\n",
    "**Summary:**  \n",
    "This dataset provides comprehensive information on NBA players, including biographical details (such as name, birthdate, nationality, and college), physical attributes (height, weight), and career data (draft year, team, position, and more).\n",
    "\n",
    "**Structure:**  \n",
    "- Each row represents a unique NBA player or a player-season, depending on the STATS_TIMEFRAME column.\n",
    "- The dataset contains 5025 rows and 26 columns.\n",
    "- The dataset contains the following columns:\n",
    "\n",
    "| Column Name   | Description                                      |\n",
    "|---------------|--------------------------------------------------|\n",
    "| PERSON_ID\t| Unique identifier for each NBA player |\n",
    "| PLAYER_LAST_NAME | Player’s last name |\n",
    "| PLAYER_FIRST_NAME |\tPlayer’s first name |\n",
    "| PLAYER_SLUG | URL-friendly version of the player’s full name (often used for web links) |\n",
    "| TEAM_ID\t| Unique identifier for the team |\n",
    "| TEAM_SLUG | URL-friendly version of the team name |\n",
    "| IS_DEFUNCT | Indicates if the team is defunct (0 = active, 1 = defunct) |\n",
    "| TEAM_CITY | City where the team is based |\n",
    "| TEAM_NAME | Name of the NBA team |\n",
    "| TEAM_ABBREVIATION | Standard abbreviation for the team name (e.g., LAL for Los Angeles Lakers) |\n",
    "| JERSEY_NUMBER | Player’s jersey number |\n",
    "| POSITION | Player’s position (e.g., G = Guard, F = Forward, C = Center, F-G = Forward-Guard) |\n",
    "| HEIGHT | Player’s height (in feet-inches format, e.g., 6-10) |\n",
    "| WEIGHT | Player’s weight (in pounds) |\n",
    "| COLLEGE | College attended by the player |\n",
    "| COUNTRY | Country of origin (nationality) |\n",
    "| DRAFT_YEAR | The year the player was drafted into the NBA |\n",
    "| DRAFT_ROUND | The round in which the player was selected during the NBA draft |\n",
    "| DRAFT_NUMBER | The overall pick number of the player in the NBA draft |\n",
    "| ROSTER_STATUS | Indicates if the player is currently on a roster (1.0 = active, 0.0 = inactive/retired) |\n",
    "| PTS | Points per game (or per season/career, depending on STATS_TIMEFRAME) |\n",
    "| REB | Rebounds per game (or per season/career) |\n",
    "| AST | Assists per game (or per season/career) |\n",
    "| STATS_TIMEFRAME | Indicates whether the stats are for the player's entire career (\"Career\") or a single season (\"Season\") |\n",
    "| FROM_YEAR | The first year of the player's NBA career or the season covered by the stats |\n",
    "| TO_YEAR | The last year of the player's NBA career or the season covered by the stats |\n",
    "\n",
    "**Provenance:**  \n",
    "Compiled and published by Mustafa Yağız Fırat on Kaggle. Last updated in 2025.\n",
    "\n",
    "**License:**  \n",
    "Check the Kaggle page for licensing details; the dataset is typically available for educational and non-commercial use.\n",
    "\n",
    "**Note:**  \n",
    "- The TEAM_NAME column refers to the team the player last played for.\n",
    "- The dataset was likely compiled by scraping player information from the [NBA's official website](https://www.nba.com/players) and aggregating it into a structured CSV file.\n",
    "\n",
    "**Potential Implications and Biases:**\n",
    "- Since the data was collected from the NBA’s official website, it is likely accurate for players who are currently active or recently retired. However, historical players or those with incomplete records may not be fully represented.\n",
    "- The web scraping process may introduce errors if the website structure changed or if certain fields were missing at the time of collection.\n",
    "- Career and season statistics may not be directly comparable across different eras due to changes in the game, league rules, and data recording methods.\n",
    "\n",
    "\n"
   ]
  },
  {
   "cell_type": "markdown",
   "id": "c9d9a31d",
   "metadata": {},
   "source": []
  },
  {
   "cell_type": "code",
   "execution_count": 11,
   "id": "a7d75150",
   "metadata": {},
   "outputs": [
    {
     "data": {
      "text/plain": [
       "(5025, 26)"
      ]
     },
     "execution_count": 11,
     "metadata": {},
     "output_type": "execute_result"
    }
   ],
   "source": [
    "import pandas as pd\n",
    "players_df = pd.read_csv('PlayerIndex_nba_stats.csv')\n",
    "players_df.shape"
   ]
  },
  {
   "cell_type": "markdown",
   "id": "39b74646",
   "metadata": {},
   "source": [
    "**The dataset contains 5025 observations through the pandas 'shape' attribute.**"
   ]
  },
  {
   "cell_type": "markdown",
   "id": "22d42db0",
   "metadata": {},
   "source": []
  }
 ],
 "metadata": {
  "kernelspec": {
   "display_name": "base",
   "language": "python",
   "name": "python3"
  },
  "language_info": {
   "codemirror_mode": {
    "name": "ipython",
    "version": 3
   },
   "file_extension": ".py",
   "mimetype": "text/x-python",
   "name": "python",
   "nbconvert_exporter": "python",
   "pygments_lexer": "ipython3",
   "version": "3.12.7"
  }
 },
 "nbformat": 4,
 "nbformat_minor": 5
}
