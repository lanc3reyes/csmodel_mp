{
 "cells": [
  {
   "cell_type": "markdown",
   "id": "f13bdb6b",
   "metadata": {},
   "source": [
    "## Dataset Description\n",
    "\n",
    "**Name:** IoT-Based Environmental Dataset\n",
    "\n",
    "**Source:** [Kaggle - IoT-Based Environmental Dataset](https://www.kaggle.com/datasets/ziya07/iot-based-environmental-dataset?resource=download)\n",
    "\n",
    "**Summary:**  \n",
    "This dataset provides detailed environmental and mental health data collected from a university setting using IoT sensors. It includes environmental metrics such as temperature, humidity, air quality, noise, lighting, and crowd density, as well as student-reported mental health indicators like stress level, sleep hours, mood score, and mental health status. The goal is to analyze how environmental conditions may influence students' well-being.\n",
    "\n",
    "**Structure:**  \n",
    "- Each row represents a 15-minute interval of environmental readings (e.g., temperature, noise, air quality) from various campus locations.\n",
    "- The dataset contains 1000 rows and 12 columns.\n",
    "- The dataset contains the following columns:\n",
    "\n",
    "| Column Name   | Description                                      |\n",
    "|---------------|--------------------------------------------------|\n",
    "| timestamp\t| Time of environmental reading data capture |\n",
    "| location_id | Identifier where sensors are deployed. |\n",
    "| temperature_celsius |\tAmbient temperature in Celsius |\n",
    "| humidity_percent | Relative humidity percentage |\n",
    "| noise_level_db | Noise level in decibels |\n",
    "| lighting_lux | Illumination intensity in lux |\n",
    "| crowd_density | Number of people in the area |\n",
    "| stress_level | Modeled student stress score (0–100), derived from environmental variables. |\n",
    "| sleep_hours | Estimated sleep duration in hours based on stress levels. |\n",
    "| mood_score | Modeled emotional score ranging from -3 (very negative) to +3 (very positive). |\n",
    "| mental_health_status | Binary indicator (0 = Normal, 1 = Mild Risk, 2 = At Risk) |\n",
    "\n",
    "**Provenance:**  \n",
    "Compiled and published by Ziya on Kaggle. Last updated in 2025.\n",
    "\n",
    "**License:**  \n",
    "Check the Kaggle page for licensing details; the dataset is typically available for educational and non-commercial use.\n",
    "\n",
    "**Note:**  \n",
    "- The location_id column refers to the specific IoT sensor or monitored area within the university environment.\n",
    "- The dataset was likely compiled from various environmental sensors and self-reported student responses, then structured into a CSV file.\n",
    "- mental_health_status is a simplified binary label and may not capture the full complexity of a student's psychological condition.\n",
    "\n",
    "**Potential Implications and Biases:**\n",
    "- Since the data involves self-reported mental health metrics, responses may be subject to personal bias, underreporting, or overestimation.\n",
    "- Sensor accuracy and calibration may affect the consistency and precision of environmental measurements (e.g., noise or air quality).\n",
    "- The dataset is limited to a university population and may not generalize to broader demographic or institutional contexts.\n",
    "- Environmental conditions are highly dynamic, and snapshots in time may not fully capture long-term exposure or effects.\n",
    "\n",
    "\n"
   ]
  },
  {
   "cell_type": "markdown",
   "id": "c9d9a31d",
   "metadata": {},
   "source": []
  },
  {
   "cell_type": "code",
   "execution_count": 106,
   "id": "a7d75150",
   "metadata": {},
   "outputs": [
    {
     "data": {
      "text/plain": [
       "(1000, 12)"
      ]
     },
     "execution_count": 106,
     "metadata": {},
     "output_type": "execute_result"
    }
   ],
   "source": [
    "import pandas as pd\n",
    "import numpy as np\n",
    "mental_health_df = pd.read_csv('university_mental_health_iot_dataset.csv')\n",
    "mental_health_df.shape"
   ]
  },
  {
   "cell_type": "markdown",
   "id": "39b74646",
   "metadata": {},
   "source": [
    "**The dataset contains 1000 observations through the pandas 'shape' attribute.**"
   ]
  },
  {
   "cell_type": "markdown",
   "id": "b1e8036f",
   "metadata": {},
   "source": [
    "## Target Research Questions\n",
    "\n",
    "**1. How do environmental factors such as temperature, humidity, air quality, noise, lighting, crowd density relate to student stress levels?**\n",
    "\n",
    "EDA: What are the correlations between each environmental factor and the reported stress_level in the dataset?\n",
    "\n",
    "**2. Does sleep duration moderate the relationship between environmental stressors and student mood?**\n",
    "\n",
    "EDA: How does mood_score vary with sleep_hours among students exposed to high vs. low environmental stressors (ex. high noise or poor air quality)?\n",
    "\n",
    "**3. Are there specific classroom conditions associated with poorer mental health status among students?**\n",
    "\n",
    "EDA: What are the average values of temperature, air_quality_index, and noise_level in locations/times where mental_health_status indicates a problem (ex. status = 1 or 2) compared to times/places where status = 0?"
   ]
  },
  {
   "cell_type": "markdown",
   "id": "d23611ef",
   "metadata": {},
   "source": [
    "## Data Preprocessing\n",
    "\n",
    "It is noticed that the decimal inconsistency in the specified columns: **temperature_celsius**, **humidity_percent**, **noise_level_db**, **lighting_lux**, **sleep_hours**, and **mood_score** constitutes a data integrity issue affecting numerical precision and standardization. Through data cleaning, specifically rounding to uniform decimal digits the dataset’s quality, reliability, and analytical value are significantly enhanced."
   ]
  },
  {
   "cell_type": "markdown",
   "id": "8b08f48b",
   "metadata": {},
   "source": [
    "The function **'min_decimal_places'** is used to identify the lowest number of decimal digits present within each specified column. This lowest decimal digit is then applied uniformly to all values in the column, ensuring consistent decimal formatting. Such standardization improves data integrity and facilitates accurate analysis."
   ]
  },
  {
   "cell_type": "code",
   "execution_count": 107,
   "id": "3f723ec5",
   "metadata": {},
   "outputs": [],
   "source": [
    "def min_decimal_places(series):\n",
    "    series = series.dropna()\n",
    "    decimals = series.astype(str).apply(\n",
    "        lambda x: len(x.split('.')[-1]) if '.' in x else 0\n",
    "    )\n",
    "    return decimals.min()\n"
   ]
  },
  {
   "cell_type": "markdown",
   "id": "7c501052",
   "metadata": {},
   "source": [
    "The function **'implement_min_decimal'** is used to implement the data cleaning basing on the returned number of decimal digits from 'min_decimal_places' function and then rounded off if the min_decimal_places value is < than the data's decimal value"
   ]
  },
  {
   "cell_type": "code",
   "execution_count": 108,
   "id": "8b6d995a",
   "metadata": {},
   "outputs": [],
   "source": [
    "def implement_min_decimal(column):\n",
    "    cleaned_column = column.round(min_decimal_places(column))\n",
    "    return cleaned_column"
   ]
  },
  {
   "cell_type": "markdown",
   "id": "df76a331",
   "metadata": {},
   "source": [
    "**Implementation of the funtions to the columns**"
   ]
  },
  {
   "cell_type": "code",
   "execution_count": 109,
   "id": "0afd48d4",
   "metadata": {},
   "outputs": [
    {
     "name": "stdout",
     "output_type": "stream",
     "text": [
      "0     2.3\n",
      "1     1.7\n",
      "2     2.9\n",
      "3     0.0\n",
      "4     3.0\n",
      "5     1.6\n",
      "6     2.0\n",
      "7     2.5\n",
      "8     1.0\n",
      "9     1.3\n",
      "10   -0.2\n",
      "11    0.6\n",
      "12    3.0\n",
      "13    1.4\n",
      "14    0.0\n",
      "15    1.0\n",
      "16    0.1\n",
      "17    1.2\n",
      "18    2.4\n",
      "19    0.2\n",
      "Name: mood_score, dtype: float64\n"
     ]
    }
   ],
   "source": [
    "#Brute Force Method: Calling of implement_max_decimal and max_decimal_places for each column mentioned\n",
    "mental_health_df['temperature_celsius'] = implement_min_decimal(mental_health_df['temperature_celsius'])\n",
    "\n",
    "mental_health_df['humidity_percent'] = implement_min_decimal(mental_health_df['humidity_percent'])\n",
    "\n",
    "mental_health_df['noise_level_db'] = implement_min_decimal(mental_health_df['noise_level_db'])\n",
    "\n",
    "mental_health_df['lighting_lux'] = implement_min_decimal(mental_health_df['lighting_lux'])\n",
    "\n",
    "mental_health_df['sleep_hours'] = implement_min_decimal(mental_health_df['sleep_hours'])\n",
    "\n",
    "mental_health_df['mood_score'] = implement_min_decimal(mental_health_df['mood_score'])\n",
    "\n",
    "mental_health_df['mental_health_status'] = implement_min_decimal(mental_health_df['mental_health_status'])\n",
    "\n",
    "#Verification for column's datas that were cleaned\n",
    "print(mental_health_df['mood_score'].head(20))\n"
   ]
  },
  {
   "cell_type": "code",
   "execution_count": 110,
   "id": "b04aad25",
   "metadata": {},
   "outputs": [
    {
     "name": "stdout",
     "output_type": "stream",
     "text": [
      "0     2.3\n",
      "1     1.7\n",
      "2     2.9\n",
      "3     0.0\n",
      "4     3.0\n",
      "5     1.6\n",
      "6     2.0\n",
      "7     2.5\n",
      "8     1.0\n",
      "9     1.3\n",
      "10   -0.2\n",
      "11    0.6\n",
      "12    3.0\n",
      "13    1.4\n",
      "14    0.0\n",
      "15    1.0\n",
      "16    0.1\n",
      "17    1.2\n",
      "18    2.4\n",
      "19    0.2\n",
      "Name: mood_score, dtype: float64\n"
     ]
    }
   ],
   "source": [
    "#Dynamic Method: Calling of implement_max_decimal and max_decimal_places for each column mentioned\n",
    "columns = [\n",
    "    'temperature_celsius', 'humidity_percent', 'noise_level_db',\n",
    "    'lighting_lux', 'sleep_hours', 'mood_score', 'mental_health_status'\n",
    "]\n",
    "\n",
    "mental_health_df[columns] = mental_health_df[columns].apply(implement_min_decimal)\n",
    "\n",
    "#Verification for column's datas that were cleaned\n",
    "print(mental_health_df['mood_score'].head(20))"
   ]
  }
 ],
 "metadata": {
  "kernelspec": {
   "display_name": "Python 3",
   "language": "python",
   "name": "python3"
  },
  "language_info": {
   "codemirror_mode": {
    "name": "ipython",
    "version": 3
   },
   "file_extension": ".py",
   "mimetype": "text/x-python",
   "name": "python",
   "nbconvert_exporter": "python",
   "pygments_lexer": "ipython3",
   "version": "3.13.3"
  }
 },
 "nbformat": 4,
 "nbformat_minor": 5
}
